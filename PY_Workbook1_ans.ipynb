{
  "cells": [
    {
      "cell_type": "markdown",
      "metadata": {
        "id": "s9pNp7cbr2gK"
      },
      "source": [
        "# This is the Workbook for checking your basics in Python\n",
        "1. Enter your code within that section, by creating new cells. \n",
        "2. You can add markdown (like this cell) for comments/notes [Press escape and then M. All such keyboard shortcuts can be seen in \"Help\" Section above]"
      ]
    },
    {
      "cell_type": "markdown",
      "metadata": {
        "id": "y7KYUq-Hr2gN"
      },
      "source": [
        "# Section-1: Basic operations:\n",
        "In default Python Workspace in the newly created Ipython Notebook, without adding any modules:\n",
        "1. Perform simple arthemetic operations availalbe \n",
        "2. Check if cosine is available.\n",
        "3. Check if 'string' operations are available\n",
        "4. Check simple i/o for files: open, read, write, close. \n"
      ]
    },
    {
      "cell_type": "code",
      "execution_count": null,
      "metadata": {
        "id": "iswON4yjr2gN",
        "outputId": "36fc54d3-91a5-4056-c635-3b225c4acd05"
      },
      "outputs": [
        {
          "name": "stdout",
          "output_type": "stream",
          "text": [
            "sum: 3\n",
            "diff: -1\n",
            "prod: 2\n",
            "quotient: 0.5\n",
            "modulo: 1\n",
            "exp: 2\n",
            "floor div: 0\n"
          ]
        }
      ],
      "source": [
        "val_1 = 1\n",
        "val_2 = 2\n",
        "\n",
        "ans = val_1 + val_2 \n",
        "print(\"sum:\", ans)\n",
        "ans = val_1 - val_2\n",
        "print(\"diff:\", ans)\n",
        "ans = val_1 * val_2\n",
        "print(\"prod:\" ,ans)\n",
        "ans = val_1/val_2\n",
        "print(\"quotient:\", ans)\n",
        "ans = val_1%val_2\n",
        "print(\"modulo:\",ans)\n",
        "ans = val_2 ** val_1\n",
        "print(\"exp:\",ans)\n",
        "ans = val_1//val_2\n",
        "print(\"floor div:\",ans)"
      ]
    },
    {
      "cell_type": "code",
      "execution_count": null,
      "metadata": {
        "id": "nEUdinBer2gQ",
        "outputId": "9c69db92-d0cc-4b50-a2fc-fb191534a1bb"
      },
      "outputs": [
        {
          "ename": "NameError",
          "evalue": "name 'cos' is not defined",
          "output_type": "error",
          "traceback": [
            "\u001b[0;31m---------------------------------------------------------------------------\u001b[0m",
            "\u001b[0;31mNameError\u001b[0m                                 Traceback (most recent call last)",
            "\u001b[0;32m<ipython-input-3-eec0e15494bc>\u001b[0m in \u001b[0;36m<module>\u001b[0;34m\u001b[0m\n\u001b[0;32m----> 1\u001b[0;31m \u001b[0mcos\u001b[0m\u001b[0;34m(\u001b[0m\u001b[0;36m3.14\u001b[0m\u001b[0;34m)\u001b[0m\u001b[0;34m\u001b[0m\u001b[0;34m\u001b[0m\u001b[0m\n\u001b[0m",
            "\u001b[0;31mNameError\u001b[0m: name 'cos' is not defined"
          ]
        }
      ],
      "source": [
        "cos(3.14)"
      ]
    },
    {
      "cell_type": "code",
      "execution_count": null,
      "metadata": {
        "id": "K3ucn7DIr2gR",
        "colab": {
          "base_uri": "https://localhost:8080/"
        },
        "outputId": "e7c387ef-560c-4b5f-af65-9c2e160b6b51"
      },
      "outputs": [
        {
          "output_type": "execute_result",
          "data": {
            "text/plain": [
              "-1.0"
            ]
          },
          "metadata": {},
          "execution_count": 1
        }
      ],
      "source": [
        "import math\n",
        "math.cos(math.pi)"
      ]
    },
    {
      "cell_type": "code",
      "execution_count": null,
      "metadata": {
        "id": "VPDuN5v7r2gR",
        "colab": {
          "base_uri": "https://localhost:8080/"
        },
        "outputId": "516270bc-0bf8-49fa-e037-d32a88824d72"
      },
      "outputs": [
        {
          "output_type": "stream",
          "name": "stdout",
          "text": [
            "STRING\n",
            "string\n",
            "String\n"
          ]
        }
      ],
      "source": [
        "text = \"StRiNg\"\n",
        "print(text.upper())\n",
        "print(text.lower())\n",
        "print(text.title())"
      ]
    },
    {
      "cell_type": "code",
      "execution_count": null,
      "metadata": {
        "id": "8XlnkLRAr2gS",
        "colab": {
          "base_uri": "https://localhost:8080/"
        },
        "outputId": "0a7edd2d-7832-4505-bca6-19dc42a69902"
      },
      "outputs": [
        {
          "output_type": "stream",
          "name": "stdout",
          "text": [
            "\n",
            "\n"
          ]
        }
      ],
      "source": [
        "file_1 = open(\"myfile.txt\",\"w+\")\n",
        "print(file_1.read())\n",
        "file_1.write(\"\\nWrite to file\")\n",
        "print(file_1.read())\n",
        "file_1.close()"
      ]
    },
    {
      "cell_type": "markdown",
      "metadata": {
        "id": "xIhi4Xwmr2gS"
      },
      "source": [
        "# Section-2: Variables. \n",
        "Please note that everything is an object in Python, and default availalbe operation on any object can be checked by \"?ObjectVariableName\", where \"ObjectVariableName\" is called the name by which the object is stored (called variable). Such operations are called \"methods\"; the power of python lies in the fact that almost all commonly used operations are coded in such default available methods. Additionally, it is easy to add new methods. \n",
        "\n",
        "1. Understand variable assignment by some examples.\n",
        "2. Check if python passes variable by reference or by value in a simple for/if loop. \n"
      ]
    },
    {
      "cell_type": "code",
      "execution_count": null,
      "metadata": {
        "id": "f-pcNidPr2gT",
        "colab": {
          "base_uri": "https://localhost:8080/"
        },
        "outputId": "f21ff4e2-0715-432e-f188-a9f8f0a04592"
      },
      "outputs": [
        {
          "output_type": "stream",
          "name": "stdout",
          "text": [
            "<class 'int'>\n",
            "<class 'int'>\n",
            "<class 'float'>\n",
            "<class 'float'>\n",
            "<class 'float'>\n"
          ]
        }
      ],
      "source": [
        "a = 2\n",
        "b = -34\n",
        "c = 1.0000\n",
        "d = -3.14\n",
        "l = math.pi\n",
        "\n",
        "print(type(a))\n",
        "print(type(b))\n",
        "print(type(c))\n",
        "print(type(d))\n",
        "print(type(l))"
      ]
    },
    {
      "cell_type": "code",
      "execution_count": null,
      "metadata": {
        "id": "mdonkargr2gT",
        "colab": {
          "base_uri": "https://localhost:8080/"
        },
        "outputId": "ca040b30-9a8b-4fde-9b96-a5c700ca7acf"
      },
      "outputs": [
        {
          "output_type": "stream",
          "name": "stdout",
          "text": [
            "[2, 3, 4]\n",
            "3\n",
            "4\n",
            "5\n",
            "[2, 3, 4]\n"
          ]
        }
      ],
      "source": [
        "l1 = [2,3,4]\n",
        "for i in l1:\n",
        "    i = i + 1\n",
        "print(l1)\n",
        "#No changes occur to the list passed\n",
        "for i in l1:\n",
        "    print(i + 1)\n",
        "#it can however do basic operations with each element\n",
        "    i = 24\n",
        "print(l1)"
      ]
    },
    {
      "cell_type": "markdown",
      "metadata": {
        "id": "z2DJZBW3r2gU"
      },
      "source": [
        "# Section-3: Default commonly used data types: Tuple, List and Dictionary\n",
        "\n",
        "1. Construct a tuple, and check if it is mutable or not by trying to change it.\n",
        "1. Construct a list, and check if it is mutable or not. \n",
        "1. Construct a dictionary, and check if it is mutable or not.\n",
        "1. Construct a tuple that has the following as its members: complex number, another tuple, a list and a dictionary. See if you can change the stored list or dictionary.\n",
        "2. What are different ways in which a list can be generated? [IMPORTANT TO KNOW]\n",
        "3. Practice various operations that can be performed on lists (its methods)\n"
      ]
    },
    {
      "cell_type": "code",
      "execution_count": null,
      "metadata": {
        "id": "O4iKjU4sr2gV",
        "colab": {
          "base_uri": "https://localhost:8080/",
          "height": 235
        },
        "outputId": "6e102181-cc87-4e5b-b84f-c2557c92c845"
      },
      "outputs": [
        {
          "output_type": "error",
          "ename": "TypeError",
          "evalue": "ignored",
          "traceback": [
            "\u001b[0;31m---------------------------------------------------------------------------\u001b[0m",
            "\u001b[0;31mTypeError\u001b[0m                                 Traceback (most recent call last)",
            "\u001b[0;32m<ipython-input-7-ee32e3b19c09>\u001b[0m in \u001b[0;36m<module>\u001b[0;34m()\u001b[0m\n\u001b[1;32m      1\u001b[0m \u001b[0;31m#tuple\u001b[0m\u001b[0;34m\u001b[0m\u001b[0;34m\u001b[0m\u001b[0;34m\u001b[0m\u001b[0m\n\u001b[1;32m      2\u001b[0m \u001b[0mt1\u001b[0m \u001b[0;34m=\u001b[0m \u001b[0;34m(\u001b[0m\u001b[0;36m1\u001b[0m\u001b[0;34m,\u001b[0m\u001b[0;36m2\u001b[0m\u001b[0;34m,\u001b[0m\u001b[0;36m3\u001b[0m\u001b[0;34m)\u001b[0m\u001b[0;34m\u001b[0m\u001b[0;34m\u001b[0m\u001b[0m\n\u001b[0;32m----> 3\u001b[0;31m \u001b[0mt1\u001b[0m\u001b[0;34m[\u001b[0m\u001b[0;36m1\u001b[0m\u001b[0;34m]\u001b[0m \u001b[0;34m=\u001b[0m \u001b[0;36m34\u001b[0m\u001b[0;34m\u001b[0m\u001b[0;34m\u001b[0m\u001b[0m\n\u001b[0m\u001b[1;32m      4\u001b[0m \u001b[0mprint\u001b[0m\u001b[0;34m(\u001b[0m\u001b[0mt1\u001b[0m\u001b[0;34m)\u001b[0m\u001b[0;34m\u001b[0m\u001b[0;34m\u001b[0m\u001b[0m\n\u001b[1;32m      5\u001b[0m \u001b[0;31m#error signifies that the tuple cannot be modified\u001b[0m\u001b[0;34m\u001b[0m\u001b[0;34m\u001b[0m\u001b[0;34m\u001b[0m\u001b[0m\n",
            "\u001b[0;31mTypeError\u001b[0m: 'tuple' object does not support item assignment"
          ]
        }
      ],
      "source": [
        "#tuple\n",
        "t1 = (1,2,3)\n",
        "t1[1] = 34\n",
        "print(t1)\n",
        "#error signifies that the tuple cannot be modified"
      ]
    },
    {
      "cell_type": "code",
      "execution_count": null,
      "metadata": {
        "id": "IpnqzQwar2gV",
        "colab": {
          "base_uri": "https://localhost:8080/"
        },
        "outputId": "b67e0f80-f348-4085-8944-906ea054c1a4"
      },
      "outputs": [
        {
          "output_type": "stream",
          "name": "stdout",
          "text": [
            "[2, 3, 34]\n"
          ]
        }
      ],
      "source": [
        "#list\n",
        "l1 = [2,3,4]\n",
        "l1[2] = 34\n",
        "print(l1)\n",
        "#no error, hence list is mutable"
      ]
    },
    {
      "cell_type": "code",
      "execution_count": null,
      "metadata": {
        "id": "IetO-lR6r2gV",
        "colab": {
          "base_uri": "https://localhost:8080/"
        },
        "outputId": "41a7cbce-caaa-4ad9-b0df-0cc01088786d"
      },
      "outputs": [
        {
          "output_type": "stream",
          "name": "stdout",
          "text": [
            "{'name': 'Poorvi', 'age': 5, 'roll no.': 2021113004}\n"
          ]
        }
      ],
      "source": [
        "#dictionary\n",
        "d1 = {\n",
        "    \"name\": \"Poorvi\",\n",
        "    \"age\": 18,\n",
        "    \"roll no.\": 2021113004\n",
        "}\n",
        "d1[\"age\"] = 5\n",
        "#del can be used to delete a row\n",
        "#del d1[age]\n",
        "print(d1)"
      ]
    },
    {
      "cell_type": "code",
      "source": [
        "import cmath\n",
        "c = 2 + 6j\n",
        "t1 = (1,3,2)\n",
        "l1 = [45, \"HE\", 'c']\n",
        "d1 = {\n",
        "    \"name\" : \"Man\",\n",
        "    \"age\" : 59\n",
        "}\n",
        "\n",
        "t2 = (c,t1,l1,d1)\n",
        "print(t2)\n",
        "\n",
        "t2[2][2]= 57\n",
        "t2[3][\"name\"] = \"Elliot Page\"\n",
        "#t2[1] = 45 + 34j --> displays error\n",
        "c = 45 + 34j #displays no error\n",
        "\n",
        "# We can therefore, modify the list and dictionary on its own the fact that it is in a tuple doesnt change their functionality\n",
        "# However we cannot modify the larger tuple by itself, i.e the modified unmutable entries will not affect the tuple\n",
        "\n",
        "print(t2)"
      ],
      "metadata": {
        "id": "Hdpifj0CEG0B",
        "colab": {
          "base_uri": "https://localhost:8080/"
        },
        "outputId": "5ec4f272-c888-4cc6-9300-5fb97cee585d"
      },
      "execution_count": null,
      "outputs": [
        {
          "output_type": "stream",
          "name": "stdout",
          "text": [
            "((2+6j), (1, 3, 2), [45, 'HE', 'c'], {'name': 'Man', 'age': 59})\n",
            "((2+6j), (1, 3, 2), [45, 'HE', 57], {'name': 'Elliot Page', 'age': 59})\n"
          ]
        }
      ]
    },
    {
      "cell_type": "code",
      "source": [
        "#range, linspace, single line loops, np.arange\n",
        "#different ways to form a list\n",
        "np.array(range(100))\n",
        "np.linspace(-2, 2, 1000)\n",
        "for i in range(100):\n",
        "  np.arange(9)"
      ],
      "metadata": {
        "id": "4B7kM5c_KKev"
      },
      "execution_count": null,
      "outputs": []
    },
    {
      "cell_type": "code",
      "source": [
        "l1 = [1, 2, 3, 4, \"HEllo\", \" World\"]\n",
        "l1.append(34) #adds 1 element to end\n",
        "print(l1)\n",
        "l1.extend([23,34,'m']) #adds list to end\n",
        "print(l1)\n",
        "l1.insert(3,45) #inserts 45 at 3rd position \n",
        "print(l1)\n",
        "l1.remove(\"HEllo\") #removes using elements\n",
        "print(l1)\n",
        "l1.pop(2) #removes using position\n",
        "print(l1)\n",
        "#slice (prints a chunck of the list)\n",
        "print(\"sliced:\", l1[ : 2]) #empty in left(starting term) empty in right(ending term) A:B (from A to Bth position)\n",
        "l1.reverse() #modifies the original list\n",
        "print(l1)\n",
        "print(l1[:: -1]) #does not modify original list\n",
        "print(len(l1))\n",
        "l2 = [2,3,4,3]  #if min was done on l1 it would have shown error\n",
        "print(\"min of l2:\",min(l2))\n",
        "print(l1.count(3)) #no. of occurances of 3 in list\n",
        "print(l1+l2)\n",
        "print(l2 * 4) #multiplies list 4 times\n",
        "l2.sort()\n",
        "print(l2)\n",
        "l2.clear()\n",
        "print(l2)"
      ],
      "metadata": {
        "colab": {
          "base_uri": "https://localhost:8080/"
        },
        "id": "OAGUs31IJ_gC",
        "outputId": "c4e8cbcd-324c-43bb-c0ff-459b8990ef0c"
      },
      "execution_count": null,
      "outputs": [
        {
          "output_type": "stream",
          "name": "stdout",
          "text": [
            "[1, 2, 3, 4, 'HEllo', ' World', 34]\n",
            "[1, 2, 3, 4, 'HEllo', ' World', 34, 23, 34, 'm']\n",
            "[1, 2, 3, 45, 4, 'HEllo', ' World', 34, 23, 34, 'm']\n",
            "[1, 2, 3, 45, 4, ' World', 34, 23, 34, 'm']\n",
            "[1, 2, 45, 4, ' World', 34, 23, 34, 'm']\n",
            "sliced: [1, 2]\n",
            "['m', 34, 23, 34, ' World', 4, 45, 2, 1]\n",
            "[1, 2, 45, 4, ' World', 34, 23, 34, 'm']\n",
            "9\n",
            "min of l2: 2\n",
            "0\n",
            "['m', 34, 23, 34, ' World', 4, 45, 2, 1, 2, 3, 4, 3]\n",
            "[2, 3, 4, 3, 2, 3, 4, 3, 2, 3, 4, 3, 2, 3, 4, 3]\n",
            "[2, 3, 3, 4]\n",
            "[]\n"
          ]
        }
      ]
    },
    {
      "cell_type": "markdown",
      "metadata": {
        "id": "CLAbCdLxr2gW"
      },
      "source": [
        "# Section-4: Control structures\n",
        "Write practice examples for the following commonly used control structures\n",
        "1. Write an example of if..then..; other structure that is also commonly used is if..elseif..else...\n",
        "2. Write an example of while.. do .. structure\n",
        "3. Write an example of for .. do .. structure\n"
      ]
    },
    {
      "cell_type": "code",
      "execution_count": null,
      "metadata": {
        "id": "d9FBUoc5r2gW",
        "colab": {
          "base_uri": "https://localhost:8080/"
        },
        "outputId": "fc283403-aab0-4206-d068-c09c73e79b11"
      },
      "outputs": [
        {
          "output_type": "stream",
          "name": "stdout",
          "text": [
            "SIDE\n"
          ]
        }
      ],
      "source": [
        "val_1 = 24\n",
        "val_2 = 356\n",
        "\n",
        "if val_1 > val_2:\n",
        "    print(\"UP\")\n",
        "elif val_1 == val_2:\n",
        "    print(\"DOWN\")\n",
        "else :\n",
        "    print(\"SIDE\")"
      ]
    },
    {
      "cell_type": "code",
      "execution_count": null,
      "metadata": {
        "id": "hdgmt-C-r2gX",
        "colab": {
          "base_uri": "https://localhost:8080/"
        },
        "outputId": "eeef874e-9d22-4269-dea5-2428f78d8485"
      },
      "outputs": [
        {
          "output_type": "stream",
          "name": "stdout",
          "text": [
            "4\n",
            "3\n",
            "2\n",
            "1\n",
            "0\n"
          ]
        }
      ],
      "source": [
        "i = 5\n",
        "while (i > 0):\n",
        "    i -= 1\n",
        "    print(i)"
      ]
    },
    {
      "cell_type": "code",
      "execution_count": null,
      "metadata": {
        "id": "TYijDJnLr2gX",
        "colab": {
          "base_uri": "https://localhost:8080/"
        },
        "outputId": "f054fe0b-e023-4453-f500-e981cb912753"
      },
      "outputs": [
        {
          "output_type": "stream",
          "name": "stdout",
          "text": [
            "11\n",
            "12\n",
            "13\n",
            "14\n",
            "15\n",
            "16\n",
            "17\n",
            "18\n",
            "19\n",
            "20\n"
          ]
        }
      ],
      "source": [
        "for i in range(10):\n",
        "    print(i + 11)"
      ]
    },
    {
      "cell_type": "markdown",
      "metadata": {
        "id": "TcA2r9pAr2gY"
      },
      "source": [
        "# Section-5: Functions\n",
        "\n",
        "If a peice of code/commands are repeatedly used in a program, this part of the code is enscapsulated into a function as a matter of practice.\n",
        "\n",
        "Write a small function that evaluates the followign mathematical function: $y = 4 \\alpha x (1-x)$, where $x$ is the input variable and $\\alpha$ is a parameter."
      ]
    },
    {
      "cell_type": "code",
      "execution_count": null,
      "metadata": {
        "id": "xxDO0Rk_r2gY"
      },
      "outputs": [],
      "source": [
        "def fun(x,a):\n",
        "    y = 4*a*x*(1 - x)\n",
        "    return y"
      ]
    },
    {
      "cell_type": "markdown",
      "metadata": {
        "id": "BgZiTldGr2gZ"
      },
      "source": [
        "# Section-6: Modules\n",
        "1. Load \"matplotlib\" module\n",
        "1. Plot the function $y=4\\alpha x (1-x)$ for $x\\in[-2,-2]$\n",
        "2. Plot a piece-wise linear curve that joins the folllowing points: $(0,1), (3,4), (-1,2)$\n",
        "3. Plot a circle of unit radius in red color, and square of unit length in blue color in same plot"
      ]
    },
    {
      "cell_type": "code",
      "execution_count": null,
      "metadata": {
        "scrolled": true,
        "colab": {
          "base_uri": "https://localhost:8080/",
          "height": 282
        },
        "id": "QIq7yh_Fr2gZ",
        "outputId": "01185a63-182f-4215-eaf4-a36ea8e6174a"
      },
      "outputs": [
        {
          "output_type": "execute_result",
          "data": {
            "text/plain": [
              "[<matplotlib.lines.Line2D at 0x7f58aa1a33d0>]"
            ]
          },
          "metadata": {},
          "execution_count": 22
        },
        {
          "output_type": "display_data",
          "data": {
            "text/plain": [
              "<Figure size 432x288 with 1 Axes>"
            ],
            "image/png": "[encoded data removed]"
          },
          "metadata": {
            "needs_background": "light"
          }
        }
      ],
      "source": [
        "import numpy\n",
        "import matplotlib\n",
        "\n",
        "l1 = numpy.linspace(-2,2,100)\n",
        "l2 = []\n",
        "for i in l1:\n",
        "    l2.append(fun(i,5))\n",
        "matplotlib.pyplot.plot(l1,l2)"
      ]
    },
    {
      "cell_type": "code",
      "execution_count": null,
      "metadata": {
        "collapsed": true,
        "id": "DAjFHx43r2ga",
        "outputId": "5b121fee-282d-42cd-d709-13f30a7dd8fd",
        "colab": {
          "base_uri": "https://localhost:8080/",
          "height": 296
        }
      },
      "outputs": [
        {
          "output_type": "execute_result",
          "data": {
            "text/plain": [
              "<matplotlib.legend.Legend at 0x7f58aa277dd0>"
            ]
          },
          "metadata": {},
          "execution_count": 16
        },
        {
          "output_type": "display_data",
          "data": {
            "text/plain": [
              "<Figure size 432x288 with 1 Axes>"
            ],
            "image/png": "[encoded data removed]"
          },
          "metadata": {
            "needs_background": "light"
          }
        }
      ],
      "source": [
        "import matplotlib\n",
        "\n",
        "l1 = [0,3,-1]\n",
        "l2 = [1,4,2]\n",
        "matplotlib.pyplot.plot(l1,l2,label = \"first line\")\n",
        "\n",
        "l1 = [3,-1,0]\n",
        "l2 = [4,2,1]\n",
        "matplotlib.pyplot.plot(l1,l2,label = \"second line\")\n",
        "\n",
        "l1 = [-1,0,3]\n",
        "l2 = [2,1,4]\n",
        "matplotlib.pyplot.plot(l1,l2,label = \"third line\")\n",
        "\n",
        "matplotlib.pyplot.xlabel(\"x axis\")\n",
        "matplotlib.pyplot.xlabel(\"y axis\")\n",
        "matplotlib.pyplot.legend()"
      ]
    },
    {
      "cell_type": "code",
      "execution_count": null,
      "metadata": {
        "id": "CxkPYexrr2ga",
        "colab": {
          "base_uri": "https://localhost:8080/",
          "height": 281
        },
        "outputId": "6370ba2e-8de9-4ce4-bdf4-d9bcf2dc050c"
      },
      "outputs": [
        {
          "output_type": "display_data",
          "data": {
            "text/plain": [
              "<Figure size 432x288 with 1 Axes>"
            ],
            "image/png": "[encoded data removed]"
          },
          "metadata": {
            "needs_background": "light"
          }
        }
      ],
      "source": [
        "import matplotlib.pyplot as plt \n",
        "import numpy as np\n",
        "\n",
        "angle = np.linspace(0,2*np.pi,100)\n",
        "radius = 1\n",
        "\n",
        "x = radius * np.cos( angle )\n",
        "y = radius * np.sin( angle )\n",
        "\n",
        "\"\"\"figure, axes = plt.subplots(1)\n",
        "axes.plot(x,y,color = \"red\")\n",
        "axes.set_aspect( 1 )\"\"\"\n",
        "## found this code online (didnt quite understand)\n",
        "\n",
        "l1 = [-0.5,-0.5,0.5,0.5,-0.5]\n",
        "l2 = [-0.5,0.5,0.5,-0.5,-0.5]\n",
        "plt.plot(l1,l2,color = \"blue\")\n",
        "plt.plot(x,y,color = \"red\")\n",
        "#this gives an oval shape as the space given between each row != space given btw each column\n",
        "#you can fix this by increasing limit of x axis like\n",
        "plt.xlim(-2.25,2.25)\n",
        "plt.ylim(-1.5,1.5)\n",
        "plt.title( ' circle and square ' )\n",
        "plt.show()\n"
      ]
    }
  ],
  "metadata": {
    "kernelspec": {
      "display_name": "Python 3",
      "language": "python",
      "name": "python3"
    },
    "language_info": {
      "codemirror_mode": {
        "name": "ipython",
        "version": 3
      },
      "file_extension": ".py",
      "mimetype": "text/x-python",
      "name": "python",
      "nbconvert_exporter": "python",
      "pygments_lexer": "ipython3",
      "version": "3.7.3"
    },
    "colab": {
      "name": "PY_Workbook1_ans.ipynb",
      "provenance": [],
      "collapsed_sections": []
    }
  },
  "nbformat": 4,
  "nbformat_minor": 0
}