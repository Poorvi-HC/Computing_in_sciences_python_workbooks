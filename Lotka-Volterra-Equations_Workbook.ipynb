{
  "cells": [
    {
      "cell_type": "code",
      "source": [
        "%pylab inline"
      ],
      "metadata": {
        "colab": {
          "base_uri": "https://localhost:8080/"
        },
        "id": "Gusoi5ySVWl2",
        "outputId": "8d7eff2b-9268-49c7-e888-6f183c3ea8c8"
      },
      "execution_count": null,
      "outputs": [
        {
          "output_type": "stream",
          "name": "stdout",
          "text": [
            "Populating the interactive namespace from numpy and matplotlib\n"
          ]
        }
      ]
    },
    {
      "cell_type": "markdown",
      "metadata": {
        "id": "diPGZMnLC1ez"
      },
      "source": [
        "# Prey-predator model\n",
        "\n",
        "Prey-Predator (also known in literature as Lotka-Volterra model) is a popular model to study dynamics of a system consisting of two antogonists, in this case rabbits (prey) and foxes (predator). \n",
        "\n",
        "The dynamics of the sytem are determined by interactions within and between the prey and predator populations. The intra-species interactions are (natural) birth and (natural) death rates, while inter-species interactions are the predation of prey (i.e. predator 'eats' prey for its survival!). Let $X$ denote the population size of prey and $Y$ denote the popluation size of predator. \n",
        "\n"
      ]
    },
    {
      "cell_type": "markdown",
      "metadata": {
        "id": "Pvs29fcaC1e5"
      },
      "source": [
        "For the population  dynamics of the prey: prey replicates at a rate that is controlled by abundance of the natural resources (rabbits need grass); we assume that these natural resources are abundant and remain at the same level throughout. Prey might die of natural causes (old age) or is eaten by predator. Thus the dynamics are reasonably modeled as:\n",
        "$$ \\frac{dX}{dt} = \\alpha X - \\beta X Y $$"
      ]
    },
    {
      "cell_type": "markdown",
      "metadata": {
        "id": "mP6Ke5xRC1e7"
      },
      "source": [
        "For the population dynamics of predator: population of predator is expected increase linearly with its own size, and also on the population size of prey (since it needs prey as food). The natural death rate of the population depends on its own population size. Thus prey population size dynamics may be modeled as:\n",
        "$$ \\frac{dY}{dt} = \\gamma X Y - \\delta Y $$"
      ]
    },
    {
      "cell_type": "markdown",
      "metadata": {
        "id": "GVr5gFlUC1e8"
      },
      "source": [
        "Clearly the dynamics of the model are dependent on the four positive constants $\\alpha,~\\beta,~\\gamma$, and $\\delta$, which are to be inferred from the feild data.\n",
        "\n",
        "We will study and understand the population dynamics of this model (i.e. $X(t)$ and $Y(t)$). We will set these four parameters to value of 1."
      ]
    },
    {
      "cell_type": "markdown",
      "metadata": {
        "id": "VLj-uQCRC1e9"
      },
      "source": [
        "## Summary of tasks\n",
        "1. [__For the model, set parameter values__](#parameters)\n",
        "2. [__Plot of rate vector field__](#vectorfield)\n",
        "3. [__Find steady states__](#steadystates)\n",
        "3. [__Time evolution of system__](#timeevolution)\n",
        "4. [__Find Jacobian__](#jacobian)\n",
        "4. [__Brief interlude: Geometric Intepretation of matrix operation__](#geometric)\n",
        "5. [__Find eigen values and eigen vectors for Jacobain Matrix__](#eigensystem)"
      ]
    },
    {
      "cell_type": "markdown",
      "metadata": {
        "id": "0eOg7ps4C1e-"
      },
      "source": [
        "***\n",
        "<a id='parameters'>\n",
        "## Task: Set by hand the value of the 4 parameter values from the last four digits of your IIIT roll number\n",
        "</a>\n",
        "***\n",
        "Add 1 to each digit and multiply by 2 and set this value to the parameters.\n",
        "\n",
        "__alternatively: use $(\\alpha,\\beta,\\gamma,\\delta)=(2,1,1,2)$__"
      ]
    },
    {
      "cell_type": "markdown",
      "source": [
        "(a,b,c,d) = (2,1,1,2)\n"
      ],
      "metadata": {
        "id": "x75zKSA1C_ED"
      }
    },
    {
      "cell_type": "markdown",
      "metadata": {
        "id": "IB4dW0ffC1e_"
      },
      "source": [
        "***\n",
        "<a id='vectorfield'>\n",
        "## Task: Plot the vector $\\left(\\frac{dX}{dt},\\frac{dY}{dt}\\right)$ in XY plane\n",
        "</a>\n",
        "***\n",
        "From the this plot, qualitatively say what is the behaviour! \n",
        "\n",
        "\n",
        "Hints (that *might* be useful for you to organize):\n",
        "1. It will be useful for later to write the function `rate_vector(r,t,*cons)` where `r` is the list [X,Y], `t` is time (dummy for now) and `cons` is the __tuple__ of parameters; output will be the list $\\left[\\frac{dX}{dt}, \\frac{dY}{dt}\\right]$\n",
        "1. The x-range and y-range are to be determined by the steady state position determined in previous task. \n",
        "2. For plotting the arrows use the function `arrow(x,y,dx,dy)` to draw arrow from point $(x,y)$ to point $(x+dx,y+dy)$."
      ]
    },
    {
      "cell_type": "code",
      "execution_count": null,
      "metadata": {
        "id": "JSwmJ4F6C1fC"
      },
      "outputs": [],
      "source": [
        "def diff_x(x,y,a,b):\n",
        "    m = a*x - b*x*y\n",
        "    return m"
      ]
    },
    {
      "cell_type": "code",
      "execution_count": null,
      "metadata": {
        "id": "7RPNff2WC1fC"
      },
      "outputs": [],
      "source": [
        "def diff_y(x,y,c,d):\n",
        "    m = c*x*y - d*y\n",
        "    return m"
      ]
    },
    {
      "cell_type": "code",
      "execution_count": null,
      "metadata": {
        "id": "19yvQdQmC1fA",
        "colab": {
          "base_uri": "https://localhost:8080/",
          "height": 287
        },
        "outputId": "e8a2dafa-b0d9-41b3-92db-6ade24955316"
      },
      "outputs": [
        {
          "output_type": "execute_result",
          "data": {
            "text/plain": [
              "(-1.0, 3.0)"
            ]
          },
          "metadata": {},
          "execution_count": 104
        },
        {
          "output_type": "display_data",
          "data": {
            "text/plain": [
              "<Figure size 432x288 with 1 Axes>"
            ],
            "image/png": "[encoded data removed]"
          },
          "metadata": {
            "needs_background": "light"
          }
        }
      ],
      "source": [
        "#steady state (0,0) and ((a/b),(d/c))=>(2,2)\n",
        "import numpy as np\n",
        "import matplotlib.pyplot as plt\n",
        "\n",
        "x = np.linspace(-1,3,40)\n",
        "\n",
        "y = np.linspace(-1,3,40)\n",
        "\n",
        "for x_point in x:\n",
        "    for y_point in y:\n",
        "        dx = diff_x(x_point,y_point,2,1) * (5*10**(-2))\n",
        "        dy = diff_y(x_point,y_point,1,2) * (5*10**(-2))\n",
        "        arrow(x_point,y_point,dx,dy)\n",
        "plt.ylim(-1,3)\n",
        "plt.xlim(-1,3)\n",
        "\n",
        "\n"
      ]
    },
    {
      "cell_type": "code",
      "source": [
        ""
      ],
      "metadata": {
        "id": "z1v4taZeV4-R"
      },
      "execution_count": null,
      "outputs": []
    },
    {
      "cell_type": "markdown",
      "metadata": {
        "id": "LPlhvf8yC1fD"
      },
      "source": [
        "***\n",
        "<a id='steadystates'>\n",
        "## Task: Find the steady states (where $\\left(\\frac{dX}{dt},\\frac{dY}{dt}\\right)=(0,0)$) by numerically solving the two coupled equations for the two unknowns $X,Y$ \n",
        "</a>\n",
        "***"
      ]
    },
    {
      "cell_type": "code",
      "source": [
        "def ret_diff(x,a=2,b=1,c=1,d=2):\n",
        "    # need to have only one unknown if we need to pass a function as an argument\n",
        "    # hence we pass a list as x\n",
        "    x, y = x[0], x[1]\n",
        "    l1 = [0,0]\n",
        "    l1[0] = (diff_x(x,y,a,b))\n",
        "    l1[1] = (diff_y(x,y,c,d))\n",
        "    return l1"
      ],
      "metadata": {
        "id": "EBnlLDOwbGXO"
      },
      "execution_count": null,
      "outputs": []
    },
    {
      "cell_type": "code",
      "execution_count": null,
      "metadata": {
        "id": "mf6d9WlQC1fE",
        "colab": {
          "base_uri": "https://localhost:8080/"
        },
        "outputId": "e4f0bdd6-58cd-4151-d48d-d5d864dc381a"
      },
      "outputs": [
        {
          "output_type": "stream",
          "name": "stdout",
          "text": [
            "[0. 0.]\n"
          ]
        }
      ],
      "source": [
        "import scipy.optimize as opt\n",
        "retval = opt.root(ret_diff,[-1,-1]).x\n",
        "print(retval)"
      ]
    },
    {
      "cell_type": "code",
      "execution_count": null,
      "metadata": {
        "id": "_Lay4dgMC1fE",
        "colab": {
          "base_uri": "https://localhost:8080/"
        },
        "outputId": "6468697e-6527-4798-e059-53811413dfee"
      },
      "outputs": [
        {
          "output_type": "stream",
          "name": "stdout",
          "text": [
            "[2. 2.]\n"
          ]
        }
      ],
      "source": [
        "retval = opt.root(ret_diff,[3,3]).x\n",
        "print(retval)"
      ]
    },
    {
      "cell_type": "markdown",
      "metadata": {
        "id": "N7eNy60rC1fE"
      },
      "source": [
        "***\n",
        "<a id='timeevolution'>\n",
        "## Task: Integrate the rate laws and find the evolution of system\n",
        "</a>\n",
        "***\n",
        "Plot $X(t)$ and $Y(t)$ for some choosen values of $X(t=0)$ and $Y(t=0)$. And describe its behaviour in your own words. \n",
        "\n",
        "Hint: use `scipy.integrate.odeint` function"
      ]
    },
    {
      "cell_type": "code",
      "source": [
        "const = (2,1,1,2)"
      ],
      "metadata": {
        "id": "rwitYDoeHz-X"
      },
      "execution_count": null,
      "outputs": []
    },
    {
      "cell_type": "code",
      "source": [
        "def rate_vector(r,t,const):\n",
        "    X = r[0]\n",
        "    Y = r[1]\n",
        "    return (const[0] * X - const[1] * X * Y,const[2]*X*Y - const[3]* Y)\n"
      ],
      "metadata": {
        "id": "OpLy6u2mHXkg"
      },
      "execution_count": null,
      "outputs": []
    },
    {
      "cell_type": "code",
      "source": [
        "import scipy.integrate as sp\n",
        "import matplotlib.pyplot as plt\n",
        "import numpy as np\n",
        "\n",
        "t = np.linspace(0,20, 100)\n",
        "const = (2, 1,1,2)\n",
        "initial = [5,2]\n",
        "#if steady state is of different points (eg. [1,2]) then we will get 2 straight lines to signify no change\n",
        "g1=sp.odeint(rate_vector,initial,t,args=(const,))\n",
        "plt.plot(t,g1[:,1])\n",
        "plt.plot(t,g1[:,0])"
      ],
      "metadata": {
        "colab": {
          "base_uri": "https://localhost:8080/",
          "height": 283
        },
        "id": "_n26UCW7q1HR",
        "outputId": "be4c868c-8d15-4b49-aeec-1c2b4dc3ce26"
      },
      "execution_count": null,
      "outputs": [
        {
          "output_type": "execute_result",
          "data": {
            "text/plain": [
              "[<matplotlib.lines.Line2D at 0x7f06c75f6a10>]"
            ]
          },
          "metadata": {},
          "execution_count": 110
        },
        {
          "output_type": "display_data",
          "data": {
            "text/plain": [
              "<Figure size 432x288 with 1 Axes>"
            ],
            "image/png": "[encoded data removed]"
          },
          "metadata": {
            "needs_background": "light"
          }
        }
      ]
    },
    {
      "cell_type": "code",
      "execution_count": null,
      "metadata": {
        "id": "mjkKdTEKC1fF",
        "colab": {
          "base_uri": "https://localhost:8080/",
          "height": 283
        },
        "outputId": "c24f91c7-f4da-40b0-fa0d-ca4ca78b7d5b"
      },
      "outputs": [
        {
          "output_type": "execute_result",
          "data": {
            "text/plain": [
              "[<matplotlib.lines.Line2D at 0x7f06c757d610>]"
            ]
          },
          "metadata": {},
          "execution_count": 111
        },
        {
          "output_type": "display_data",
          "data": {
            "text/plain": [
              "<Figure size 432x288 with 1 Axes>"
            ],
            "image/png": "[encoded data removed]"
          },
          "metadata": {
            "needs_background": "light"
          }
        }
      ],
      "source": [
        "# FOR STEADY STATE [2,2]\n",
        "\n",
        "# Note: Try manual integration...\n",
        "\n",
        "t = np.linspace(0,20, 100)\n",
        "const = (2, 1,1,2)\n",
        "initial = [2,2]\n",
        "#if steady state is of different points (eg. [1,2]) then we will get 2 straight lines to signify no change\n",
        "g1=sp.odeint(rate_vector,initial,t,args=(const,))\n",
        "plt.plot(t,g1[:,1])\n",
        "plt.plot(t,g1[:,0])"
      ]
    },
    {
      "cell_type": "markdown",
      "metadata": {
        "id": "wl9cvurfC1fH"
      },
      "source": [
        "***\n",
        "<a id='jacobian'>\n",
        "## Task: Using SymPy, find the Jacobian (at any arbitrary point), and hence the Jacobian at steady state(/s)\n",
        "</a>\n",
        "***"
      ]
    },
    {
      "cell_type": "code",
      "execution_count": null,
      "metadata": {
        "id": "ePLDGbOSC1fI"
      },
      "outputs": [],
      "source": [
        "import sympy\n",
        "x=sympy.Symbol('x')\n",
        "y=sympy.Symbol('y')"
      ]
    },
    {
      "cell_type": "code",
      "execution_count": null,
      "metadata": {
        "id": "fUQ4GAUYC1fI",
        "outputId": "494e54a5-b52e-487d-eecc-6d2deafc0e47",
        "colab": {
          "base_uri": "https://localhost:8080/"
        }
      },
      "outputs": [
        {
          "output_type": "stream",
          "name": "stdout",
          "text": [
            "(-x*y + 2*x, x*y - 2*y)\n"
          ]
        }
      ],
      "source": [
        "rMatrix = rate_vector([x,y],1,const)\n",
        "print(rMatrix)"
      ]
    },
    {
      "cell_type": "code",
      "execution_count": null,
      "metadata": {
        "id": "M1Kz2faNC1fJ",
        "outputId": "f797d5eb-f443-41b9-cbbb-832359675335",
        "colab": {
          "base_uri": "https://localhost:8080/"
        }
      },
      "outputs": [
        {
          "output_type": "stream",
          "name": "stdout",
          "text": [
            "Matrix([[-x*y + 2*x], [x*y - 2*y]])\n"
          ]
        }
      ],
      "source": [
        "rv2=sympy.Matrix(rMatrix)\n",
        "print(rv2)"
      ]
    },
    {
      "cell_type": "code",
      "execution_count": null,
      "metadata": {
        "id": "3BgJxzOvC1fJ",
        "outputId": "18fb52c6-9e15-4a89-a421-c09a461a5b48",
        "colab": {
          "base_uri": "https://localhost:8080/"
        }
      },
      "outputs": [
        {
          "output_type": "stream",
          "name": "stdout",
          "text": [
            "Matrix([[2 - y, -x], [y, x - 2]])\n"
          ]
        }
      ],
      "source": [
        "jacobian=sympy.Matrix(rv2).jacobian(sympy.Matrix([x,y]))\n",
        "print(jacobian)"
      ]
    },
    {
      "cell_type": "code",
      "source": [
        "jacobian.subs([(x,0),(y,0)])\n",
        "M = jacobian.subs([(x,0),(y,0)])\n",
        "print(M)"
      ],
      "metadata": {
        "colab": {
          "base_uri": "https://localhost:8080/"
        },
        "id": "QR7FT7hSp0RE",
        "outputId": "d6fcb292-f418-4ab3-826e-b100fc3e6175"
      },
      "execution_count": null,
      "outputs": [
        {
          "output_type": "stream",
          "name": "stdout",
          "text": [
            "Matrix([[2, 0], [0, -2]])\n"
          ]
        }
      ]
    },
    {
      "cell_type": "code",
      "source": [
        "jacobian.subs([(x,2),(y,2)])\n",
        "M = jacobian.subs([(x,2),(y,2)])\n",
        "print(M)"
      ],
      "metadata": {
        "colab": {
          "base_uri": "https://localhost:8080/"
        },
        "id": "iT8vLGcnp-Ar",
        "outputId": "45b84185-357a-4cc1-97bc-a8650bf8a1a2"
      },
      "execution_count": null,
      "outputs": [
        {
          "output_type": "stream",
          "name": "stdout",
          "text": [
            "Matrix([[0, -2], [2, 0]])\n"
          ]
        }
      ]
    },
    {
      "cell_type": "markdown",
      "metadata": {
        "id": "bMTN3fatC1fK"
      },
      "source": [
        "***\n",
        "<a id='geometric'>\n",
        "## Task: Geometric Interpretation of Matrix (through its operation on vectors)\n",
        "</a>\n",
        "***"
      ]
    },
    {
      "cell_type": "markdown",
      "metadata": {
        "id": "NOj6faEHC1fK"
      },
      "source": [
        "One of the common operations is matrix operation on vector, and many of the times of specific interest is multiple repeated operations of matrix on vector. "
      ]
    },
    {
      "cell_type": "markdown",
      "metadata": {
        "id": "S2Yi-RlFC1fK"
      },
      "source": [
        "Consider $\\textbf A$, an arbitrary $2\\times 2$ matrix. For a arbirtary unit vector $\\vec x$, plot $\\textbf A \\vec x$. From this plot, can you generalise the operation $\\textbf A \\vec x$."
      ]
    },
    {
      "cell_type": "code",
      "execution_count": null,
      "metadata": {
        "id": "P-nJ3eneC1fK"
      },
      "outputs": [],
      "source": [
        "import scipy as sp"
      ]
    },
    {
      "cell_type": "code",
      "execution_count": null,
      "metadata": {
        "id": "EGdp44tNC1fL"
      },
      "outputs": [],
      "source": [
        "#import sympy as sm\n",
        "\n",
        "#A = [[1,2],[3,4]]\n",
        "#A_matrix = sm.Matrix(A)\n",
        "\n",
        "#lamda_1 = A_matrix.eigenvals().keys()\n",
        "#lamda_2 = A_matrix.eigenvects()\n",
        "#print(lamda_1)\n",
        "#print(lamda_2)\n",
        "\n",
        "#x = [[1,2],[2,3],[2,4]]\n",
        "#p_01 = np.dot(x[0],"
      ]
    },
    {
      "cell_type": "code",
      "source": [
        "import numpy as np\n",
        "\n",
        "A = np.array([(1,2),(3,4)])\n",
        "x = np.array([3,2])\n",
        "output = np.dot(A,x)\n"
      ],
      "metadata": {
        "id": "lbvZsdTj0rgU"
      },
      "execution_count": null,
      "outputs": []
    },
    {
      "cell_type": "code",
      "source": [
        "arrow(0,0,x[0],x[1], color = 'purple')\n",
        "arrow(0,0,output[0],output[1],color = \"red\")\n",
        "\n",
        "plt.xlim(-3,10)\n",
        "plt.ylim(-3,20)\n",
        "plt.show()"
      ],
      "metadata": {
        "colab": {
          "base_uri": "https://localhost:8080/",
          "height": 268
        },
        "id": "M5shyuDv1dnL",
        "outputId": "2fadc8b0-0e6c-4019-9007-ff26b5703337"
      },
      "execution_count": null,
      "outputs": [
        {
          "output_type": "display_data",
          "data": {
            "text/plain": [
              "<Figure size 432x288 with 1 Axes>"
            ],
            "image/png": "[encoded data removed]"
          },
          "metadata": {
            "needs_background": "light"
          }
        }
      ]
    },
    {
      "cell_type": "markdown",
      "metadata": {
        "id": "7dLbxUjtC1fL"
      },
      "source": [
        "Let matrix be $\\textbf{A}$ of size $N\\times N$ and column vector $\\vec x$ of $N$ rows. Of interest is understanding $\\textbf A \\vec x$ and $\\textbf A^n \\vec x$. A common solution is to find the eigen values and eigen vectors of matrix $\\textbf A$, i.e. solutions of eigen system $\\textbf A \\vec v = \\lambda \\vec v$ allows for $N$ solutions i.e.  pairs $(\\lambda_i,\\vec v_i)$ solve $\\textbf A \\vec v_i = \\lambda_i \\vec v_i$ for $1\\le i \\le N$, such that $\\lambda_i \\le \\lambda_j$ when $i \\le j$. When determinant of matrix is not zero (i.e. $\\det \\textbf A \\ne 0$), the set of  vectors $\\{\\vec v_i,~i\\in[1,N]\\}$ form linearly independent set, and can act as basis vectors. [__Gram-Smidt Orthoganlization__](https://en.wikipedia.org/wiki/Gram%E2%80%93Schmidt_process) can convert these eigen vectors into ortho-normal vectors, i.e. $\\vec v_i \\cdot \\vec v_j = \\delta_{i,j}$, where Kroneker delta function $\\delta_{i,j}=1$ when $i=j$ and 0 otherwise.\n",
        "\n",
        "Any vector $\\vec x$ can be written as linear combination of such basis vectors, i.e. $\\vec x = \\sum_{i=1}^N c^{(0)}_i \\vec v_i$ with constants $c^{(0)}_i$. So that $\\textbf A \\vec x = \\sum_{i=1}^N c^{(1)}_i \\vec v_i$, with $c^{(1)}_i = \\lambda_i c^{(0)}_i$. For a repeated operation of $\\textbf A$, we have $\\textbf A^k \\vec x = \\sum_{i=1}^N c^{(k)}_i \\vec v_i$ with $c^{(k)}_i = \\lambda^k_i c^{(0)}_i$. "
      ]
    },
    {
      "cell_type": "markdown",
      "metadata": {
        "id": "QCBJO_t6C1fM"
      },
      "source": [
        "For the matrix $\\textbf A$, find the eigen values and eigen vectors. Draw projection of an arbitrary unit vector $\\vec x$ onto the eigen vectors. Do the same for $\\vec b$ where $\\vec b = \\textbf A \\vec x$. Try for a few cases of $\\vec x$ and see if the above statements regarding $A^k\\vec x$ are true (for $k=1$)."
      ]
    },
    {
      "cell_type": "code",
      "execution_count": null,
      "metadata": {
        "id": "IK0fWfxCC1fM",
        "colab": {
          "base_uri": "https://localhost:8080/"
        },
        "outputId": "684ce680-6db6-482b-d953-9207bd3731ae"
      },
      "outputs": [
        {
          "output_type": "stream",
          "name": "stdout",
          "text": [
            "E-value: [-1.  4.]\n",
            "E-vector: [[-0.89442719 -0.4472136 ]\n",
            " [ 0.4472136  -0.89442719]]\n"
          ]
        }
      ],
      "source": [
        "a = np.array([[0, 2], \n",
        "              [2, 3]])\n",
        "w,v=eig(a)\n",
        "print('E-value:', w)\n",
        "print('E-vector:', v)\n"
      ]
    },
    {
      "cell_type": "code",
      "source": [
        "x = np.array([1,2])\n",
        "p_01 = np.dot(x,v[0]) # == c0\n",
        "print(p_01)\n",
        "p_11 = np.dot(p_01*np.dot(a,v[0]),v[0]) # == c1\n",
        "print(p_11)\n",
        "lamda_1 = p_11/p_01\n",
        "\n",
        "print(w[0], lamda_1)\n",
        "if (lamda_1 == w[0]):\n",
        "    print(\"positive\")\n",
        "else:\n",
        "    print(\"negative\")\n",
        "\n",
        "p_02 = np.dot(x,v[1]) # == c0\n",
        "print(p_02)\n",
        "p_12 = np.dot(p_02*np.dot(a,v[1]),v[1]) # == c1\n",
        "print(p_12)\n",
        "lamda_1 = p_12/p_02\n",
        "\n",
        "print(w[1], lamda_2)\n"
      ],
      "metadata": {
        "colab": {
          "base_uri": "https://localhost:8080/"
        },
        "id": "XcWhKBma3jV_",
        "outputId": "c2041dfe-2e27-4f2d-b97f-5328c65bf437"
      },
      "execution_count": null,
      "outputs": [
        {
          "output_type": "stream",
          "name": "stdout",
          "text": [
            "-1.7888543819998317\n",
            "-3.9354796403996293\n",
            "-1.0 2.1999999999999997\n",
            "negative\n",
            "-1.3416407864998738\n",
            "-1.0733126291998993\n",
            "4.0 [(5/2 - sqrt(33)/2, 1, [Matrix([\n",
            "[-2/(-3/2 + sqrt(33)/2)],\n",
            "[                     1]])]), (5/2 + sqrt(33)/2, 1, [Matrix([\n",
            "[-2/(-sqrt(33)/2 - 3/2)],\n",
            "[                     1]])])]\n"
          ]
        }
      ]
    },
    {
      "cell_type": "markdown",
      "metadata": {
        "id": "4b8kWJt8C1fM"
      },
      "source": [
        "***\n",
        "<a id='eigensystem'>\n",
        "## Task: Find the value of the Jacobian at the steady state(or states), and find the eigenvalues and corresponding eigenvectors\n",
        "</a>\n",
        "***\n",
        "\n",
        "With these eigen values and eigen values, determine the behaviour of the system in the neighbourhood of each steady state."
      ]
    },
    {
      "cell_type": "code",
      "execution_count": null,
      "metadata": {
        "id": "DEA5Oa8YC1fN",
        "colab": {
          "base_uri": "https://localhost:8080/"
        },
        "outputId": "58fa46c1-ba71-425b-9f21-f8a8c787c99b"
      },
      "outputs": [
        {
          "output_type": "stream",
          "name": "stdout",
          "text": [
            "Matrix_1:  [Matrix([\n",
            "[1],\n",
            "[0]])]\n",
            "Matrix_2:  [Matrix([\n",
            "[x/(4 - x)],\n",
            "[        1]])]\n",
            "lambda_1: 2\n",
            "lambda_2: x - 2\n"
          ]
        }
      ],
      "source": [
        "M = jacobian.subs([(x,0),(y,0)])\n",
        "M_matrix = np.array(M)\n",
        "a,b = M.eigenvects()\n",
        "print(\"Matrix_1: \",a[2])\n",
        "print(\"Matrix_2: \",b[2])\n",
        "w,v = M.eigenvals()\n",
        "print(\"lambda_1:\",w)\n",
        "print(\"lambda_2:\",v)\n"
      ]
    },
    {
      "cell_type": "code",
      "source": [
        "M = jacobian.subs([(x,2),(y,2)])\n",
        "\n",
        "M_matrix = np.array(M)\n",
        "a,b = M.eigenvects()\n",
        "print(\"Matrix_1: \",a[2])\n",
        "print(\"Matrix_2: \",b[2])\n",
        "w,v = M.eigenvals()\n",
        "print(\"lambda_1:\",w)\n",
        "print(\"lambda_2:\",v)"
      ],
      "metadata": {
        "colab": {
          "base_uri": "https://localhost:8080/"
        },
        "id": "zuWf3qmw9S4j",
        "outputId": "fdff35e3-ef07-4be9-e467-dc89bd93c6a0"
      },
      "execution_count": null,
      "outputs": [
        {
          "output_type": "stream",
          "name": "stdout",
          "text": [
            "Matrix_1:  [Matrix([\n",
            "[-x/4 - sqrt(x**2 - 12*x + 4)/4 + 1/2],\n",
            "[                                   1]])]\n",
            "Matrix_2:  [Matrix([\n",
            "[-x/4 + sqrt(x**2 - 12*x + 4)/4 + 1/2],\n",
            "[                                   1]])]\n",
            "lambda_1: x/2 - sqrt(x**2 - 12*x + 4)/2 - 1\n",
            "lambda_2: x/2 + sqrt(x**2 - 12*x + 4)/2 - 1\n"
          ]
        }
      ]
    },
    {
      "cell_type": "code",
      "source": [
        "# Note: Also if we observe for [2,2] point in the space, we observe a swirl of arrows (stable equillibrium)\n",
        "#       And in [0,0] point in space, we observe diverging arrows (unstable equillibrium)"
      ],
      "metadata": {
        "id": "fuvpSXUR-q_s"
      },
      "execution_count": null,
      "outputs": []
    }
  ],
  "metadata": {
    "kernelspec": {
      "display_name": "Python 3",
      "language": "python",
      "name": "python3"
    },
    "language_info": {
      "codemirror_mode": {
        "name": "ipython",
        "version": 3
      },
      "file_extension": ".py",
      "mimetype": "text/x-python",
      "name": "python",
      "nbconvert_exporter": "python",
      "pygments_lexer": "ipython3",
      "version": "3.6.9"
    },
    "colab": {
      "name": "PreyPredator-Model-Workbook.ipynb",
      "provenance": []
    }
  },
  "nbformat": 4,
  "nbformat_minor": 0
}