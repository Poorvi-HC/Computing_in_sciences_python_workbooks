{
  "cells": [
    {
      "cell_type": "markdown",
      "metadata": {
        "id": "q_1454DDIFr9"
      },
      "source": [
        "***\n",
        "<a id='lesson-9'></a>\n",
        "# Epicycle: a circle rolling over another circle\n",
        "***\n",
        "\n",
        "Circle moving on other circle is a frequent motif in the models of planetary model.  For example, imagine descirbing the motion of moon; in a helio-centric model, moon circles earth while the earth circles around the sun. \n",
        "\n",
        "Fourier showed that ANY curve can be described as a motion of a circle which is moving on another circle, which is moving on another circle and so on. In this lesson, we will explore the Fourier analysis using complex numbers.\n",
        "\n",
        "We want to model a closed curve in two dimensions; as a simplistic example, consider a circle with center at origin given by $x^2 + y^2 = c^2$, with $c$ being the radius of the circle. Of specific interest is the parametric description with parameter $t$, the circle has following parametric description: $x(t) = c \\cos(t)$ and $y(t) = c \\sin(t)$. The complex number description of this parametrization is given by $z(t) = c \\exp(j t)$ where $j= \\sqrt{-1}$. \n",
        "\n",
        "Let us consider:  $z(t) = c e^{jt}$, this has $z(t) = z(t+ 2 \\pi)$, i.e. with a period of $2\\pi$ any point returns to itself. \n",
        "\n",
        "Now consider: $z(t) = c e^{njt}$, this has $z(t) = z(t + 2\\pi/n)$, i.e. with a period of $2\\pi/n$ evey point returns to itself. \n",
        "\n",
        "For the sake of having a period 1 unit of time and fractions of it, we will consider $z(t) = c e^{2\\pi n j t}$, which has a period of 1/n unit of time.\n"
      ]
    },
    {
      "cell_type": "code",
      "execution_count": null,
      "metadata": {
        "colab": {
          "base_uri": "https://localhost:8080/"
        },
        "id": "tf6R689KIFsD",
        "outputId": "0fb71063-d45f-4a94-bebe-06bbec722acb"
      },
      "outputs": [
        {
          "output_type": "stream",
          "name": "stdout",
          "text": [
            "Populating the interactive namespace from numpy and matplotlib\n"
          ]
        },
        {
          "output_type": "stream",
          "name": "stderr",
          "text": [
            "/usr/local/lib/python3.7/dist-packages/IPython/core/magics/pylab.py:161: UserWarning: pylab import has clobbered these variables: ['e']\n",
            "`%matplotlib` prevents importing * from pylab and numpy\n",
            "  \"\\n`%matplotlib` prevents importing * from pylab and numpy\"\n"
          ]
        }
      ],
      "source": [
        "import cmath\n",
        "%pylab inline"
      ]
    },
    {
      "cell_type": "markdown",
      "metadata": {
        "id": "0NmqvfWfIFsE"
      },
      "source": [
        "See python documentation for `cmath` at https://docs.python.org/3.5/library/cmath.html"
      ]
    },
    {
      "cell_type": "markdown",
      "metadata": {
        "id": "Bled8JquIFsE"
      },
      "source": [
        "Note the small gap in the circle (right figure above). This is by construction, via tvals!"
      ]
    },
    {
      "cell_type": "markdown",
      "metadata": {
        "id": "aCkW59lIIFsF"
      },
      "source": [
        "Consider an epicycle given by: $z(t) = c_1 e^{2\\pi jt} + c_2 e^{30*2\\pi jt}$"
      ]
    },
    {
      "cell_type": "markdown",
      "metadata": {
        "id": "djl6NxreIFsF"
      },
      "source": [
        "Above curve become more smoother as number of points (here 201) is increased!"
      ]
    },
    {
      "cell_type": "markdown",
      "metadata": {
        "id": "jv_v2dDyIFsF"
      },
      "source": [
        "Notice the gap, due to tvals."
      ]
    },
    {
      "cell_type": "code",
      "execution_count": null,
      "metadata": {
        "id": "HINfU0jJIFsG"
      },
      "outputs": [],
      "source": [
        "def z(t):\n",
        "    return 1 * numpy.exp(2j*1*math.pi*t) + 0.5*numpy.exp(2j*-1*math.pi*t)"
      ]
    },
    {
      "cell_type": "code",
      "execution_count": null,
      "metadata": {
        "id": "TrpAUpuJIFsH"
      },
      "outputs": [],
      "source": [
        "m=1000\n",
        "ts = [i*1.0/m for i in range(m)]"
      ]
    },
    {
      "cell_type": "code",
      "execution_count": null,
      "metadata": {
        "id": "68ULj75PIFsH"
      },
      "outputs": [],
      "source": [
        "import matplotlib.pyplot\n",
        "import math\n",
        "import numpy"
      ]
    },
    {
      "cell_type": "code",
      "execution_count": null,
      "metadata": {
        "id": "1VcOJomIIFsI"
      },
      "outputs": [],
      "source": [
        "l1 = [[],[]]\n",
        "for i in range(m):\n",
        "    l1[0].append(numpy.real(z(ts[i])))\n",
        "    l1[1].append(numpy.imag(z(ts[i])))"
      ]
    },
    {
      "cell_type": "code",
      "execution_count": null,
      "metadata": {
        "colab": {
          "base_uri": "https://localhost:8080/",
          "height": 282
        },
        "id": "T1TF-GlsIFsI",
        "outputId": "72b4800d-7778-41a8-d2ca-4a1b46d7b74a"
      },
      "outputs": [
        {
          "output_type": "execute_result",
          "data": {
            "text/plain": [
              "[<matplotlib.lines.Line2D at 0x7f372f1a1650>]"
            ]
          },
          "metadata": {},
          "execution_count": 118
        },
        {
          "output_type": "display_data",
          "data": {
            "text/plain": [
              "<Figure size 432x288 with 1 Axes>"
            ],
            "image/png": "[encoded data removed]"
          },
          "metadata": {
            "needs_background": "light"
          }
        }
      ],
      "source": [
        "matplotlib.pyplot.plot(l1[0],l1[1])"
      ]
    },
    {
      "cell_type": "markdown",
      "metadata": {
        "id": "4XjpY4VvIFsJ"
      },
      "source": [
        "Consider that there are a series of observations $\\vec{r}_i= (x_i,y_i),\\, i\\in[1,N]$. We will form the closed curve by $\\vec{r}_{N+i} = \\vec{r}_i$. We want to find a epicyclic desription of the complex function $z(t)$ such that for $t_i=\\tau*i$, we have $z(t_i)=(x_i,y_i)$.  That is, we want to find a description\n",
        "$$  z(t) = \\sum_n c_n * e^{2 \\pi j~n~t} \\tag{eq:1}\n",
        "$$\n",
        "where the coefficient $c_n$ can be a complex number, and $n \\in \\mathcal{Z}$; later we will show that \n",
        "$\\tau = \\frac{1}{N}$.\n",
        "\n",
        "Lets try formulate the problem. Given $z_i \\forall i \\in [1,N]$, with $z_i \\equiv z(t_i)$, find $c_n$ in the Equation eq:1 above. \n",
        "\n",
        "Solution: Consider $$z(t)*e^{- 2\\pi j m t} = \\sum_n c_n * e^{2 \\pi j~(n-m)~t}$$\n",
        "then integrating on both sides from $t=0$ $t=1$, gives us \n",
        "$$ \\int_0^1 dt~z(t)*e^{- 2\\pi j m t} = c_m \\implies c_m = \\tau \\sum_{i=1}^{N} z_i*e^{-2\\pi j m~i \\tau}\n",
        "$$\n",
        "Typically $c_n$ is found for $|n| \\le n_{max}$ i.e. $n \\in [-n_{max}, \\cdots, 0 , \\cdots, -n_{max}]$"
      ]
    },
    {
      "cell_type": "markdown",
      "metadata": {
        "id": "jfT8t2WDIFsK"
      },
      "source": [
        "Lets try on the following example: `curve_para-1-v2.dat`"
      ]
    },
    {
      "cell_type": "code",
      "execution_count": null,
      "metadata": {
        "id": "ncmdKkKGIFsK"
      },
      "outputs": [],
      "source": [
        "import numpy\n",
        "import matplotlib.pyplot as plt\n",
        "import math\n"
      ]
    },
    {
      "cell_type": "markdown",
      "metadata": {
        "id": "Dq31lknZIFsL"
      },
      "source": [
        "Another intersting example is below: "
      ]
    },
    {
      "cell_type": "code",
      "execution_count": null,
      "metadata": {
        "id": "vr21r9i0IFsL"
      },
      "outputs": [],
      "source": [
        "fig_pi = numpy.loadtxt('/content/pi-3 (1).txt')"
      ]
    },
    {
      "cell_type": "code",
      "execution_count": null,
      "metadata": {
        "id": "XOcXKPuhIFsL"
      },
      "outputs": [],
      "source": [
        "zvals_pi = fig_pi[:,0]+1j*fig_pi[:,1]"
      ]
    },
    {
      "cell_type": "code",
      "source": [
        "def e(m,t):\n",
        "  return numpy.exp(-1*2*1j*math.pi*t*m)"
      ],
      "metadata": {
        "id": "kacX1qz9WJBQ"
      },
      "execution_count": null,
      "outputs": []
    },
    {
      "cell_type": "code",
      "source": [
        "def determine_coffecients(zvals_pts,n):\n",
        "  l1 = []\n",
        "  for i in range(-n,n+1):\n",
        "    sum = 0\n",
        "    for t in range(len(zvals_pts)):\n",
        "      sum += zvals_pts[t]*e(i,((t+1)/len(zvals_pts)))\n",
        "    S=sum/len(zvals_pts)\n",
        "    l1.append(S)\n",
        "  return l1"
      ],
      "metadata": {
        "id": "tVPb2jPSUdbM"
      },
      "execution_count": null,
      "outputs": []
    },
    {
      "cell_type": "code",
      "execution_count": null,
      "metadata": {
        "id": "V7G15IQ5IFsL"
      },
      "outputs": [],
      "source": [
        "pi_fourier_list = determine_coffecients(zvals_pi,10)"
      ]
    },
    {
      "cell_type": "code",
      "source": [
        "def plot_epicycles(pi_fourier_list,t,n):\n",
        "  l2=[]\n",
        "  ts = [i*1.0/t for i in range(t)]\n",
        "  for i in ts:\n",
        "    sum = 0\n",
        "    for c in range(-n,n+1):\n",
        "      sum +=  pi_fourier_list[c+n]*e(-c,t)\n",
        "    l2.append(sum)\n",
        "  return numpy.array(l2, dtype=\"complex\")"
      ],
      "metadata": {
        "id": "JLOEbM5MdqE3"
      },
      "execution_count": null,
      "outputs": []
    },
    {
      "cell_type": "code",
      "execution_count": null,
      "metadata": {
        "id": "970RVtGQIFsM"
      },
      "outputs": [],
      "source": [
        "reconstructed_pi = plot_epicycles(pi_fourier_list,100,10)"
      ]
    },
    {
      "cell_type": "code",
      "execution_count": null,
      "metadata": {
        "colab": {
          "base_uri": "https://localhost:8080/",
          "height": 282
        },
        "id": "cJllIZoHIFsM",
        "outputId": "f41deb18-cf4f-46a5-a822-b64a93603e8c"
      },
      "outputs": [
        {
          "output_type": "execute_result",
          "data": {
            "text/plain": [
              "<matplotlib.colorbar.Colorbar at 0x7f372f094510>"
            ]
          },
          "metadata": {},
          "execution_count": 127
        },
        {
          "output_type": "display_data",
          "data": {
            "text/plain": [
              "<Figure size 432x288 with 2 Axes>"
            ],
            "image/png": "[encoded data removed]"
          },
          "metadata": {
            "needs_background": "light"
          }
        }
      ],
      "source": [
        "plt.plot(fig_pi[:,0],fig_pi[:,1],'x-',label='orig')\n",
        "plt.scatter(reconstructed_pi.real,reconstructed_pi.imag,label='approx',c=range(100))\n",
        "plt.legend()\n",
        "plt.colorbar()"
      ]
    },
    {
      "cell_type": "code",
      "source": [
        "fig_pts = numpy.loadtxt('/content/curve_para-1-v2 (1).txt')\n",
        "zvals_pts = fig_pts[:,0]+1j*fig_pts[:,1]\n",
        "pts_fourier_list = determine_coffecients(zvals_pts,10)\n",
        "reconstructed_pts = plot_epicycles(pts_fourier_list,100,10)\n",
        "plt.plot(fig_pts[:,0],fig_pts[:,1],'x-',label='orig')\n",
        "plt.scatter(reconstructed_pts.real,reconstructed_pts.imag,label='approx',c=range(100))\n",
        "plt.legend()\n",
        "plt.colorbar()"
      ],
      "metadata": {
        "colab": {
          "base_uri": "https://localhost:8080/",
          "height": 282
        },
        "id": "0VYpBv8VgoY7",
        "outputId": "3210b86d-0475-4486-cf03-731e707be71e"
      },
      "execution_count": null,
      "outputs": [
        {
          "output_type": "execute_result",
          "data": {
            "text/plain": [
              "<matplotlib.colorbar.Colorbar at 0x7f372efd1e50>"
            ]
          },
          "metadata": {},
          "execution_count": 128
        },
        {
          "output_type": "display_data",
          "data": {
            "text/plain": [
              "<Figure size 432x288 with 2 Axes>"
            ],
            "image/png": "[encoded data removed]"
          },
          "metadata": {
            "needs_background": "light"
          }
        }
      ]
    },
    {
      "cell_type": "code",
      "source": [
        "fig_pts = numpy.loadtxt('/content/hut-2 (1).txt')\n",
        "zvals_pts = fig_pts[:,0]+1j*fig_pts[:,1]\n",
        "pts_fourier_list = determine_coffecients(zvals_pts,10)\n",
        "reconstructed_pts = plot_epicycles(pts_fourier_list,100,10)\n",
        "plt.plot(fig_pts[:,0],fig_pts[:,1],'x-',label='orig')\n",
        "plt.scatter(reconstructed_pts.real,reconstructed_pts.imag,label='approx',c=range(100))\n",
        "plt.legend()\n",
        "plt.colorbar()"
      ],
      "metadata": {
        "colab": {
          "base_uri": "https://localhost:8080/",
          "height": 286
        },
        "id": "GSCwsmnzhDDn",
        "outputId": "887df7a1-58d0-4ce4-dc44-73ffa9951833"
      },
      "execution_count": null,
      "outputs": [
        {
          "output_type": "execute_result",
          "data": {
            "text/plain": [
              "<matplotlib.colorbar.Colorbar at 0x7f372ef25690>"
            ]
          },
          "metadata": {},
          "execution_count": 129
        },
        {
          "output_type": "display_data",
          "data": {
            "text/plain": [
              "<Figure size 432x288 with 2 Axes>"
            ],
            "image/png": "[encoded data removed]"
          },
          "metadata": {
            "needs_background": "light"
          }
        }
      ]
    },
    {
      "cell_type": "markdown",
      "metadata": {
        "id": "flJ0JWLUIFsM"
      },
      "source": [
        "## short note on making shapes\n",
        "We will use inkscape program. Draw a shape in inkscape. Save the file as svg, for example 'pi.svg'. From this file, we will extract the path.\n",
        "\n",
        "Run the following command  in a terminal: \n",
        "\n",
        "`grep -v 'inkscape' pi.svg | grep -e cx -e cy  | sed -e 's/\"//g' -e 's/cx=//g' -e 's/cy=//g' -e 's/\\/>//g' > pi.dat`\n",
        "\n",
        "Now check to make sure the final output file `pi.dat` has only numbers and no text! If it has, then manually delete the text.\n",
        "\n",
        "In the Jupyter notebook run the following commands:\n",
        "`curve_pi = loadtxt('pi.dat') # command to load the data` \n",
        "and then \n",
        "`curve_pi = curve_pi.reshape((shape(curve_pi)[0]/2,2))`\n"
      ]
    }
  ],
  "metadata": {
    "kernelspec": {
      "display_name": "Python 3",
      "language": "python",
      "name": "python3"
    },
    "language_info": {
      "codemirror_mode": {
        "name": "ipython",
        "version": 3
      },
      "file_extension": ".py",
      "mimetype": "text/x-python",
      "name": "python",
      "nbconvert_exporter": "python",
      "pygments_lexer": "ipython3",
      "version": "3.8.10"
    },
    "colab": {
      "name": "Workbook-Epicycles-Copy1 (2).ipynb",
      "provenance": []
    }
  },
  "nbformat": 4,
  "nbformat_minor": 0
}